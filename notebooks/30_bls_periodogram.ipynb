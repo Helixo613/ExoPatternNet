{
 "cells": [
  {
   "cell_type": "code",
   "execution_count": 7,
   "id": "b46f26f6",
   "metadata": {},
   "outputs": [
    {
     "name": "stdout",
     "output_type": "stream",
     "text": [
      "Using project root: c:\\Users\\arnav\\Desktop\\Arnav\\ROG\\Arnav\\Arnav\\python\\ExoPatternNet\n"
     ]
    }
   ],
   "source": [
    "# Ensure project root is on sys.path so `config.py` can be imported when running from the notebooks folder\n",
    "import sys, os\n",
    "nb_dir = os.path.dirname(os.getcwd()) if os.path.basename(os.getcwd()) == 'notebooks' else os.getcwd()\n",
    "proj_root = nb_dir if os.path.isfile(os.path.join(nb_dir, 'config.py')) else os.path.dirname(nb_dir)\n",
    "if proj_root not in sys.path:\n",
    "    sys.path.insert(0, proj_root)\n",
    "print('Using project root:', proj_root)"
   ]
  },
  {
   "cell_type": "code",
   "execution_count": 8,
   "id": "c4fd0ff7",
   "metadata": {},
   "outputs": [
    {
     "name": "stdout",
     "output_type": "stream",
     "text": [
      "Search dirs: ['c:\\\\Users\\\\arnav\\\\Desktop\\\\Arnav\\\\ROG\\\\Arnav\\\\Arnav\\\\python\\\\ExoPatternNet\\\\data\\\\processed', 'c:\\\\Users\\\\arnav\\\\Desktop\\\\Arnav\\\\ROG\\\\Arnav\\\\Arnav\\\\python\\\\ExoPatternNet\\\\notebooks\\\\data\\\\processed']\n",
      "Using CSV: c:\\Users\\arnav\\Desktop\\Arnav\\ROG\\Arnav\\Arnav\\python\\ExoPatternNet\\notebooks\\data\\processed\\Kepler-10_Kepler_flattened.csv\n"
     ]
    },
    {
     "ename": "AssertionError",
     "evalue": "CSV missing columns: {'time'}. Found: ['flux', 'flux_err', 'quality']",
     "output_type": "error",
     "traceback": [
      "\u001b[1;31m---------------------------------------------------------------------------\u001b[0m",
      "\u001b[1;31mAssertionError\u001b[0m                            Traceback (most recent call last)",
      "Cell \u001b[1;32mIn[8], line 31\u001b[0m\n\u001b[0;32m     29\u001b[0m need \u001b[38;5;241m=\u001b[39m {\u001b[38;5;124m\"\u001b[39m\u001b[38;5;124mtime\u001b[39m\u001b[38;5;124m\"\u001b[39m, \u001b[38;5;124m\"\u001b[39m\u001b[38;5;124mflux\u001b[39m\u001b[38;5;124m\"\u001b[39m}\n\u001b[0;32m     30\u001b[0m missing \u001b[38;5;241m=\u001b[39m need \u001b[38;5;241m-\u001b[39m \u001b[38;5;28mset\u001b[39m(df\u001b[38;5;241m.\u001b[39mcolumns)\n\u001b[1;32m---> 31\u001b[0m \u001b[38;5;28;01massert\u001b[39;00m \u001b[38;5;129;01mnot\u001b[39;00m missing, \u001b[38;5;124mf\u001b[39m\u001b[38;5;124m\"\u001b[39m\u001b[38;5;124mCSV missing columns: \u001b[39m\u001b[38;5;132;01m{\u001b[39;00mmissing\u001b[38;5;132;01m}\u001b[39;00m\u001b[38;5;124m. Found: \u001b[39m\u001b[38;5;132;01m{\u001b[39;00mdf\u001b[38;5;241m.\u001b[39mcolumns\u001b[38;5;241m.\u001b[39mtolist()\u001b[38;5;132;01m}\u001b[39;00m\u001b[38;5;124m\"\u001b[39m\n\u001b[0;32m     32\u001b[0m lc \u001b[38;5;241m=\u001b[39m lk\u001b[38;5;241m.\u001b[39mLightCurve(\n\u001b[0;32m     33\u001b[0m     time\u001b[38;5;241m=\u001b[39mdf[\u001b[38;5;124m\"\u001b[39m\u001b[38;5;124mtime\u001b[39m\u001b[38;5;124m\"\u001b[39m]\u001b[38;5;241m.\u001b[39mto_numpy(),\n\u001b[0;32m     34\u001b[0m     flux\u001b[38;5;241m=\u001b[39mdf[\u001b[38;5;124m\"\u001b[39m\u001b[38;5;124mflux\u001b[39m\u001b[38;5;124m\"\u001b[39m]\u001b[38;5;241m.\u001b[39mto_numpy(),\n\u001b[0;32m     35\u001b[0m     flux_err\u001b[38;5;241m=\u001b[39mdf[\u001b[38;5;124m\"\u001b[39m\u001b[38;5;124mflux_err\u001b[39m\u001b[38;5;124m\"\u001b[39m]\u001b[38;5;241m.\u001b[39mto_numpy() \u001b[38;5;28;01mif\u001b[39;00m \u001b[38;5;124m\"\u001b[39m\u001b[38;5;124mflux_err\u001b[39m\u001b[38;5;124m\"\u001b[39m \u001b[38;5;129;01min\u001b[39;00m df\u001b[38;5;241m.\u001b[39mcolumns \u001b[38;5;28;01melse\u001b[39;00m \u001b[38;5;28;01mNone\u001b[39;00m,\n\u001b[0;32m     36\u001b[0m     quality\u001b[38;5;241m=\u001b[39mdf[\u001b[38;5;124m\"\u001b[39m\u001b[38;5;124mquality\u001b[39m\u001b[38;5;124m\"\u001b[39m]\u001b[38;5;241m.\u001b[39mto_numpy() \u001b[38;5;28;01mif\u001b[39;00m \u001b[38;5;124m\"\u001b[39m\u001b[38;5;124mquality\u001b[39m\u001b[38;5;124m\"\u001b[39m \u001b[38;5;129;01min\u001b[39;00m df\u001b[38;5;241m.\u001b[39mcolumns \u001b[38;5;28;01melse\u001b[39;00m \u001b[38;5;28;01mNone\u001b[39;00m,\n\u001b[0;32m     37\u001b[0m )\n\u001b[0;32m     39\u001b[0m \u001b[38;5;66;03m# BLS transit search\u001b[39;00m\n",
      "\u001b[1;31mAssertionError\u001b[0m: CSV missing columns: {'time'}. Found: ['flux', 'flux_err', 'quality']"
     ]
    }
   ],
   "source": [
    "# ...existing code...\n",
    "import os, pandas as pd, numpy as np\n",
    "import config\n",
    "import matplotlib.pyplot as plt\n",
    "import lightkurve as lk\n",
    "from config import DEFAULTS\n",
    "\n",
    "# ...existing code...\n",
    "# Resolve processed data directories\n",
    "search_dirs = [\n",
    "    os.path.join(proj_root, \"data\", \"processed\"),\n",
    "    os.path.join(proj_root, \"notebooks\", \"data\", \"processed\"),\n",
    "]\n",
    "existing_dirs = [d for d in search_dirs if os.path.isdir(d)]\n",
    "print(\"Search dirs:\", existing_dirs)\n",
    "\n",
    "# Find flattened CSVs across dirs\n",
    "candidates = []\n",
    "for d in existing_dirs:\n",
    "    candidates += [os.path.join(d, f) for f in os.listdir(d) if f.endswith(\"_flattened.csv\")]\n",
    "\n",
    "assert candidates, f\"No flattened CSVs in any of: {existing_dirs}\"\n",
    "path = sorted(candidates)[-1]\n",
    "DATA_PRO = os.path.dirname(path)\n",
    "print(\"Using CSV:\", path)\n",
    "\n",
    "# Read CSV and construct a LightCurve\n",
    "df = pd.read_csv(path)\n",
    "need = {\"time\", \"flux\"}\n",
    "missing = need - set(df.columns)\n",
    "assert not missing, f\"CSV missing columns: {missing}. Found: {df.columns.tolist()}\"\n",
    "lc = lk.LightCurve(\n",
    "    time=df[\"time\"].to_numpy(),\n",
    "    flux=df[\"flux\"].to_numpy(),\n",
    "    flux_err=df[\"flux_err\"].to_numpy() if \"flux_err\" in df.columns else None,\n",
    "    quality=df[\"quality\"].to_numpy() if \"quality\" in df.columns else None,\n",
    ")\n",
    "\n",
    "# BLS transit search\n",
    "periodogram = lc.to_periodogram(\n",
    "    method=\"bls\",\n",
    "    period=np.linspace(DEFAULTS[\"min_period_days\"], DEFAULTS[\"max_period_days\"], 5000),\n",
    "    duration=DEFAULTS[\"duration_hours_candidates\"],\n",
    ")\n",
    "ax = periodogram.plot()\n",
    "ax.set_title(\"Box Least Squares Periodogram\")\n",
    "plt.show()\n",
    "\n",
    "print(\"Best period (days):\", periodogram.period_at_max_power)\n",
    "print(\"Best duration (days):\", periodogram.duration_at_max_power)\n",
    "# ...existing code..."
   ]
  },
  {
   "cell_type": "code",
   "execution_count": null,
   "id": "240b32f7",
   "metadata": {},
   "outputs": [],
   "source": []
  }
 ],
 "metadata": {
  "kernelspec": {
   "display_name": "exopattern",
   "language": "python",
   "name": "python3"
  },
  "language_info": {
   "codemirror_mode": {
    "name": "ipython",
    "version": 3
   },
   "file_extension": ".py",
   "mimetype": "text/x-python",
   "name": "python",
   "nbconvert_exporter": "python",
   "pygments_lexer": "ipython3",
   "version": "3.9.23"
  }
 },
 "nbformat": 4,
 "nbformat_minor": 5
}
