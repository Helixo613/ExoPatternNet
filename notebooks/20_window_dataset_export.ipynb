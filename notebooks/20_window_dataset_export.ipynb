{
 "cells": [
  {
   "cell_type": "code",
   "execution_count": 1,
   "id": "8215061d",
   "metadata": {},
   "outputs": [
    {
     "name": "stdout",
     "output_type": "stream",
     "text": [
      "Using project root: c:\\Users\\arnav\\Desktop\\Arnav\\ROG\\Arnav\\Arnav\\python\\ExoPatternNet\n"
     ]
    }
   ],
   "source": [
    "import sys, os\n",
    "nb_dir = os.path.dirname(os.getcwd()) if os.path.basename(os.getcwd()) == 'notebooks' else os.getcwd()\n",
    "proj_root = nb_dir if os.path.isfile(os.path.join(nb_dir, 'config.py')) else os.path.dirname(nb_dir)\n",
    "if proj_root not in sys.path:\n",
    "    sys.path.insert(0, proj_root)\n",
    "print('Using project root:', proj_root)"
   ]
  },
  {
   "cell_type": "code",
   "execution_count": null,
   "id": "cc814d05-9481-4ff8-ad1d-01dfe1953e8a",
   "metadata": {},
   "outputs": [],
   "source": [
    "\n",
    "# Fetch & Preprocess Light Curve\n",
    "import config\n",
    "import os, numpy as np, pandas as pd\n",
    "from config import DEFAULTS\n",
    "\n",
    "DATA_PRO = \"data/processed\"\n",
    "DATA_WIN = \"data/windows\"\n",
    "os.makedirs(DATA_WIN, exist_ok=True)\n",
    "\n",
    "csv_path = [p for p in os.listdir(DATA_PRO) if p.endswith(\"_flattened.csv\")]\n",
    "assert len(csv_path) >= 1, \"Run the preprocessing notebook first.\"\n",
    "csv_path = os.path.join(DATA_PRO, csv_path[0])\n",
    "df = pd.read_csv(csv_path)\n",
    "flux = df[\"flux\"].to_numpy().astype(np.float32)\n"
   ]
  },
  {
   "cell_type": "code",
   "execution_count": 6,
   "id": "0a8e0bf2",
   "metadata": {},
   "outputs": [
    {
     "data": {
      "text/plain": [
       "(162, 1, 2048)"
      ]
     },
     "execution_count": 6,
     "metadata": {},
     "output_type": "execute_result"
    }
   ],
   "source": [
    "def make_windows(series: np.ndarray, win: int = 2048, stride: int = 256):\n",
    "    T = series.shape[0]\n",
    "    if T < win:\n",
    "        return np.zeros((0,1,win), dtype=np.float32)\n",
    "    out = []\n",
    "    for s in range(0, T - win + 1, stride):\n",
    "        seg = series[s:s+win]\n",
    "        out.append(seg[None, :])  # (1,L)\n",
    "    X = np.stack(out, axis=0).astype(np.float32)  # (N,1,L)\n",
    "    return X\n",
    "\n",
    "WIN = DEFAULTS[\"window_len\"]\n",
    "STR = DEFAULTS[\"window_stride\"]\n",
    "X = make_windows(flux, WIN, STR)\n",
    "X.shape\n"
   ]
  },
  {
   "cell_type": "code",
   "execution_count": 7,
   "id": "79adb68b",
   "metadata": {},
   "outputs": [
    {
     "name": "stdout",
     "output_type": "stream",
     "text": [
      "Wrote: ['config.json', 'windows_train.npz', 'windows_val.npz']\n"
     ]
    }
   ],
   "source": [
    "if X.shape[0] < 10:\n",
    "    print(\"Warning: very few windows; pick a longer target or reduce win/stride.\")\n",
    "\n",
    "# naive split (later you’ll aggregate multiple stars and split by star)\n",
    "n = X.shape[0]\n",
    "n_val = max(1, int(0.2 * n))\n",
    "X_tr, X_va = X[:-n_val], X[-n_val:]\n",
    "\n",
    "np.savez_compressed(os.path.join(DATA_WIN, \"windows_train.npz\"), x=X_tr)\n",
    "np.savez_compressed(os.path.join(DATA_WIN, \"windows_val.npz\"),   x=X_va)\n",
    "\n",
    "with open(os.path.join(DATA_WIN, \"config.json\"), \"w\") as f:\n",
    "    import json\n",
    "    json.dump({\n",
    "        \"window_len\": int(WIN),\n",
    "        \"window_stride\": int(STR),\n",
    "        \"norm\": \"median=1.0 after flatten\",\n",
    "        \"mission\": DEFAULTS[\"mission\"]\n",
    "    }, f, indent=2)\n",
    "\n",
    "print(\"Wrote:\", os.listdir(DATA_WIN))\n"
   ]
  },
  {
   "cell_type": "code",
   "execution_count": null,
   "id": "858d6117",
   "metadata": {},
   "outputs": [],
   "source": []
  }
 ],
 "metadata": {
  "kernelspec": {
   "display_name": "exopattern",
   "language": "python",
   "name": "python3"
  },
  "language_info": {
   "codemirror_mode": {
    "name": "ipython",
    "version": 3
   },
   "file_extension": ".py",
   "mimetype": "text/x-python",
   "name": "python",
   "nbconvert_exporter": "python",
   "pygments_lexer": "ipython3",
   "version": "3.9.23"
  }
 },
 "nbformat": 4,
 "nbformat_minor": 5
}
