{
 "cells": [
  {
   "cell_type": "code",
   "execution_count": 1,
   "id": "266b3a64-b4da-4a0e-9405-45f1297fd878",
   "metadata": {},
   "outputs": [
    {
     "name": "stdout",
     "output_type": "stream",
     "text": [
      "3.9.23 (main, Jun  5 2025, 13:25:08) [MSC v.1929 64 bit (AMD64)]\n",
      "numpy 1.26.4\n",
      "pandas 2.2.2\n",
      "scipy 1.13.1\n",
      "matplotlib 3.8.4\n",
      "astropy 6.0.1\n",
      "lightkurve 2.4.2\n",
      "torch 2.3.1+cpu cuda: False\n"
     ]
    }
   ],
   "source": [
    "import sys, numpy, pandas, scipy, matplotlib, astropy, lightkurve\n",
    "print(sys.version)\n",
    "print(\"numpy\", numpy.__version__)\n",
    "print(\"pandas\", pandas.__version__)\n",
    "print(\"scipy\", scipy.__version__)\n",
    "print(\"matplotlib\", matplotlib.__version__)\n",
    "print(\"astropy\", astropy.__version__)\n",
    "print(\"lightkurve\", lightkurve.__version__)\n",
    "\n",
    "# optional: torch check for inference later\n",
    "try:\n",
    "    import torch\n",
    "    print(\"torch\", torch.__version__, \"cuda:\", torch.cuda.is_available())\n",
    "except Exception as e:\n",
    "    print(\"torch not installed:\", e)"
   ]
  },
  {
   "cell_type": "code",
   "execution_count": null,
   "id": "bd004d0c-26b5-410b-80d0-20fb127f516d",
   "metadata": {},
   "outputs": [],
   "source": []
  }
 ],
 "metadata": {
  "kernelspec": {
   "display_name": "exopattern",
   "language": "python",
   "name": "python3"
  },
  "language_info": {
   "codemirror_mode": {
    "name": "ipython",
    "version": 3
   },
   "file_extension": ".py",
   "mimetype": "text/x-python",
   "name": "python",
   "nbconvert_exporter": "python",
   "pygments_lexer": "ipython3",
   "version": "3.9.23"
  }
 },
 "nbformat": 4,
 "nbformat_minor": 5
}
